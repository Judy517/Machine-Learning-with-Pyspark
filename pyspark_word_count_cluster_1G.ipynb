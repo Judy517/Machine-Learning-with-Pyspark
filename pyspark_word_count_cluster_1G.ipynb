{
 "cells": [
  {
   "cell_type": "code",
   "execution_count": 2,
   "id": "bea8bd2e-c4b3-45ad-8fb1-c1e54a93f486",
   "metadata": {
    "execution": {
     "iopub.execute_input": "2022-10-08T16:26:42.613793Z",
     "iopub.status.busy": "2022-10-08T16:26:42.613564Z",
     "iopub.status.idle": "2022-10-08T16:26:42.910519Z",
     "shell.execute_reply": "2022-10-08T16:26:42.909594Z",
     "shell.execute_reply.started": "2022-10-08T16:26:42.613768Z"
    },
    "tags": []
   },
   "outputs": [
    {
     "data": {
      "application/vnd.jupyter.widget-view+json": {
       "model_id": "08fa0f20cf66447a9335f8e77832cb05",
       "version_major": 2,
       "version_minor": 0
      },
      "text/plain": [
       "VBox()"
      ]
     },
     "metadata": {},
     "output_type": "display_data"
    },
    {
     "data": {
      "application/vnd.jupyter.widget-view+json": {
       "model_id": "",
       "version_major": 2,
       "version_minor": 0
      },
      "text/plain": [
       "FloatProgress(value=0.0, bar_style='info', description='Progress:', layout=Layout(height='25px', width='50%'),…"
      ]
     },
     "metadata": {},
     "output_type": "display_data"
    }
   ],
   "source": [
    "\"\"\"\n",
    "Created by Terry (terrydurunkai@gmail.com) on 2022/10/7.\n",
    "\"\"\"\n",
    "\n",
    "# from pyspark import SparkContext\n",
    "\n",
    "# sc = SparkContext.getOrCreate()\n",
    "words = sc.textFile(\"/result\").flatMap(lambda line: line.split(\" \"))\n",
    "# words = sc.textFile(\"5000-8.txt\").flatMap(lambda line: line.split(\" \"))\n",
    "wordCounts = words.map(lambda word: (word, 1)).reduceByKey(lambda a,b:a +b)"
   ]
  },
  {
   "cell_type": "code",
   "execution_count": 3,
   "id": "ccb3b972-fcd6-4f1c-91b3-fdf75af90202",
   "metadata": {
    "execution": {
     "iopub.execute_input": "2022-10-08T16:26:45.577098Z",
     "iopub.status.busy": "2022-10-08T16:26:45.576856Z",
     "iopub.status.idle": "2022-10-08T16:29:05.553505Z",
     "shell.execute_reply": "2022-10-08T16:29:05.552899Z",
     "shell.execute_reply.started": "2022-10-08T16:26:45.577072Z"
    },
    "tags": []
   },
   "outputs": [
    {
     "data": {
      "application/vnd.jupyter.widget-view+json": {
       "model_id": "9ead2d11605048c09a6a2fb78848025e",
       "version_major": 2,
       "version_minor": 0
      },
      "text/plain": [
       "VBox()"
      ]
     },
     "metadata": {},
     "output_type": "display_data"
    },
    {
     "data": {
      "application/vnd.jupyter.widget-view+json": {
       "model_id": "",
       "version_major": 2,
       "version_minor": 0
      },
      "text/plain": [
       "FloatProgress(value=0.0, bar_style='info', description='Progress:', layout=Layout(height='25px', width='50%'),…"
      ]
     },
     "metadata": {},
     "output_type": "display_data"
    },
    {
     "name": "stdout",
     "output_type": "stream",
     "text": [
      "['justice--about', '\"summit', '\"juvenis', 'canibus,\"', 'unmusical?', \"'interest'\", 'informer?', 'hearing--has', 'weaker?', 'pruning-hook?'] and 854790 other words are the word(s) with the minimum count of 1\n",
      "['the'] is the word(s) with the maximum count of 9736276"
     ]
    }
   ],
   "source": [
    "# words = {}\n",
    "# with open(\"output/part-00000\", mode=\"r\") as f:\n",
    "#     lines = f.readlines()\n",
    "#     for line in lines:\n",
    "wordsMap = wordCounts.collectAsMap()\n",
    "resultMap = {}\n",
    "minCount = 1000\n",
    "maxCount = 0\n",
    "minWord = []\n",
    "maxWord = []\n",
    "for key in wordsMap.keys():\n",
    "    if key == \"\" or key == \"\\'\\'\" or wordsMap[key] == 15211222:\n",
    "        continue\n",
    "    flag = True\n",
    "    for c in key:\n",
    "        if ord(c) < 33 or ord(c) > 122:\n",
    "            flag = False\n",
    "            break\n",
    "    if flag:\n",
    "        resultMap[key] = wordsMap[key]\n",
    "        if wordsMap[key] <= minCount:\n",
    "            if wordsMap[key] == minCount:\n",
    "                minWord.append(key)\n",
    "            else:\n",
    "                minWord = [key]\n",
    "                minCount = wordsMap[key]\n",
    "        if wordsMap[key] >= maxCount:\n",
    "            if wordsMap[key] == maxCount:\n",
    "                maxWord.append(key)\n",
    "            else:\n",
    "                maxWord = [key]\n",
    "                maxCount = wordsMap[key]\n",
    "print(minWord[:10], end=\"\")\n",
    "print(\" and %d other words are the word(s) with the minimum count of %d\" % (len(minWord) - 10, minCount))\n",
    "print(maxWord, end=\"\")\n",
    "print(\" is the word(s) with the maximum count of %d\" % (maxCount))"
   ]
  },
  {
   "cell_type": "code",
   "execution_count": 4,
   "id": "0aff0486-f475-4fbb-8f30-f5cf65b61344",
   "metadata": {
    "execution": {
     "iopub.execute_input": "2022-10-08T16:29:09.910432Z",
     "iopub.status.busy": "2022-10-08T16:29:09.910101Z",
     "iopub.status.idle": "2022-10-08T16:29:15.243563Z",
     "shell.execute_reply": "2022-10-08T16:29:15.242693Z",
     "shell.execute_reply.started": "2022-10-08T16:29:09.910403Z"
    }
   },
   "outputs": [
    {
     "data": {
      "application/vnd.jupyter.widget-view+json": {
       "model_id": "edee5b640ce24538ae0ff00e20f1953e",
       "version_major": 2,
       "version_minor": 0
      },
      "text/plain": [
       "VBox()"
      ]
     },
     "metadata": {},
     "output_type": "display_data"
    },
    {
     "data": {
      "application/vnd.jupyter.widget-view+json": {
       "model_id": "",
       "version_major": 2,
       "version_minor": 0
      },
      "text/plain": [
       "FloatProgress(value=0.0, bar_style='info', description='Progress:', layout=Layout(height='25px', width='50%'),…"
      ]
     },
     "metadata": {},
     "output_type": "display_data"
    }
   ],
   "source": [
    "wordCounts = sc.parallelize([resultMap])\n",
    "wordCounts.saveAsTextFile(\"output2/\")"
   ]
  },
  {
   "cell_type": "code",
   "execution_count": null,
   "id": "141a526d-716b-49d5-b25e-196532577eba",
   "metadata": {},
   "outputs": [],
   "source": []
  }
 ],
 "metadata": {
  "kernelspec": {
   "display_name": "PySpark",
   "language": "python",
   "name": "pysparkkernel"
  },
  "language_info": {
   "codemirror_mode": {
    "name": "python",
    "version": 3
   },
   "file_extension": ".py",
   "mimetype": "text/x-python",
   "name": "pyspark",
   "pygments_lexer": "python3"
  }
 },
 "nbformat": 4,
 "nbformat_minor": 5
}
