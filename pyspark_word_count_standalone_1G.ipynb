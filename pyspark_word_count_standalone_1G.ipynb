{
 "cells": [
  {
   "cell_type": "code",
   "execution_count": 15,
   "id": "0c626afe-2ee2-4d3a-b571-33f8729f051d",
   "metadata": {},
   "outputs": [],
   "source": [
    "\"\"\"\n",
    "Created by Terry (terrydurunkai@gmail.com) on 2022/10/7.\n",
    "\"\"\"\n",
    "\n",
    "from pyspark import SparkContext\n",
    "\n",
    "\n",
    "sc = SparkContext.getOrCreate()\n",
    "words = sc.textFile(\"gutenberg-1G.txt\").flatMap(lambda line: line.split(\" \"))\n",
    "# words = sc.textFile(\"5000-8.txt\").flatMap(lambda line: line.split(\" \"))\n",
    "wordCounts = words.map(lambda word: (word, 1)).reduceByKey(lambda a,b:a +b)"
   ]
  },
  {
   "cell_type": "code",
   "execution_count": 16,
   "id": "ac06cb26-7a51-417a-8b55-e85d12ba80dc",
   "metadata": {},
   "outputs": [],
   "source": [
    "# words = {}\n",
    "# with open(\"output/part-00000\", mode=\"r\") as f:\n",
    "#     lines = f.readlines()\n",
    "#     for line in lines:\n",
    "wordsMap = wordCounts.collectAsMap()\n",
    "resultMap = {}\n",
    "minCount = 1000\n",
    "maxCount = 0\n",
    "minWord = []\n",
    "maxWord = []\n",
    "for key in wordsMap.keys():\n",
    "    if key == \"\" or key == \"\\'\\'\" or wordsMap[key] == 15211222:\n",
    "        continue\n",
    "    flag = True\n",
    "    for c in key:\n",
    "        if ord(c) < 33 or ord(c) > 122:\n",
    "            flag = False\n",
    "            break\n",
    "    if flag:\n",
    "        resultMap[key] = wordsMap[key]\n",
    "        if wordsMap[key] <= minCount:\n",
    "            if wordsMap[key] == minCount:\n",
    "                minWord.append(key)\n",
    "            else:\n",
    "                minWord = [key]\n",
    "                minCount = wordsMap[key]\n",
    "        if wordsMap[key] >= maxCount:\n",
    "            if wordsMap[key] == maxCount:\n",
    "                maxWord.append(key)\n",
    "            else:\n",
    "                maxWord = [key]\n",
    "                maxCount = wordsMap[key]\n",
    "# print(minWord, end=\"\")\n",
    "# print(\" is the word(s) with the minimum count of %d\" % (minCount))\n",
    "# print(maxWord, end=\"\")\n",
    "# print(\" is the word(s) with the maximum count of %d\" % (maxCount))"
   ]
  },
  {
   "cell_type": "code",
   "execution_count": 18,
   "id": "045f7622-5e1c-4d86-a827-94ee0e056dc7",
   "metadata": {},
   "outputs": [],
   "source": [
    "with open(\"1G_min_max.txt\", mode=\"w\") as f:\n",
    "    outputStr = str(minWord) + \" is the word(s) with the minimum count of \" + str(minCount) + \"\\n\" + str(maxWord) + \" is the word(s) with the maximum count of \" + str(maxCount)\n",
    "    f.write(outputStr)\n",
    "wordCounts = sc.parallelize([resultMap])\n",
    "wordCounts.saveAsTextFile(\"output2/\")"
   ]
  },
  {
   "cell_type": "code",
   "execution_count": null,
   "id": "48edab28-0bfe-4bc5-87e8-fd040b97f2ae",
   "metadata": {},
   "outputs": [],
   "source": []
  }
 ],
 "metadata": {
  "kernelspec": {
   "display_name": "Python 3 (ipykernel)",
   "language": "python",
   "name": "python3"
  },
  "language_info": {
   "codemirror_mode": {
    "name": "ipython",
    "version": 3
   },
   "file_extension": ".py",
   "mimetype": "text/x-python",
   "name": "python",
   "nbconvert_exporter": "python",
   "pygments_lexer": "ipython3",
   "version": "3.10.6"
  }
 },
 "nbformat": 4,
 "nbformat_minor": 5
}
